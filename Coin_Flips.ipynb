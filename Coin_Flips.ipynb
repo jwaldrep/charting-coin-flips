{
 "cells": [
  {
   "cell_type": "raw",
   "metadata": {},
   "source": [
    "Create a function to flip a coin. It is up to you to determine what this returns to signify heads or tails.\n",
    "\n",
    "Then create a function to run a simulation of flipping a coin n number of times, default 2**16, recording how many heads and tails it has at different intervals. The intervals are exponential, so record at 2 ** 0, 2 ** 1, 2 ** 2, and so on until you reach n. Record the final number as well."
   ]
  },
  {
   "cell_type": "code",
   "execution_count": null,
   "metadata": {
    "collapsed": true
   },
   "outputs": [],
   "source": []
  },
  {
   "cell_type": "code",
   "execution_count": 35,
   "metadata": {
    "collapsed": true
   },
   "outputs": [],
   "source": [
    "import random\n",
    "import matplotlib.pyplot as plt\n",
    "%matplotlib inline"
   ]
  },
  {
   "cell_type": "code",
   "execution_count": 58,
   "metadata": {
    "collapsed": false
   },
   "outputs": [],
   "source": [
    "def heads_tails(power_of_two=16):\n",
    "    flips = [random.randint(1,2) for _ in range(2**(power_of_two))]\n",
    "    samples = {}\n",
    "    for n in range(power_of_two+1):\n",
    "        sample = flips[:2**n]\n",
    "        samples[n] = (sample.count(1), sample.count(2))\n",
    "    return samples"
   ]
  },
  {
   "cell_type": "code",
   "execution_count": 67,
   "metadata": {
    "collapsed": false
   },
   "outputs": [
    {
     "name": "stdout",
     "output_type": "stream",
     "text": [
      "{0: (1, 0), 1: (1, 1), 2: (3, 1), 3: (4, 4), 4: (7, 9), 5: (14, 18), 6: (26, 38), 7: (53, 75), 8: (113, 143), 9: (245, 267), 10: (489, 535), 11: (979, 1069), 12: (1975, 2121), 13: (4064, 4128), 14: (8126, 8258), 15: (16278, 16490), 16: (32758, 32778)}\n"
     ]
    }
   ],
   "source": [
    "flips = (heads_tails(power_of_two=16))\n",
    "print(flips)"
   ]
  },
  {
   "cell_type": "raw",
   "metadata": {},
   "source": [
    "Then make a line plot of the difference between heads and tails at each recorded point, and another with the ratio of heads to tails at each recorded point.\n",
    "\n",
    "Create these plots again, but as scatter plots with a logarithmic scale for the x-axis.\n",
    "\n",
    "Write notes about what you observe. Feel free to add more plots to help you.\n",
    "\n",
    "Now we will look at the mean and standard deviation of these trials of flipping coins. Flip coins as before, but run 20 trials of 2**16 each.\n",
    "\n",
    "Use a scatter plot to plot the mean heads/tails ratio at each recorded point, and another scatter plot to plot the standard deviation of the heads/tails ratio at each recorded point. You will want to use a logarithmic scale for the x-axis in both. You may want to do the same for the y-axis with the standard deviation.\n",
    "\n",
    "Write notes about what you observe. Feel free to add more plots to help you.\n",
    "\n",
    "Lastly, run 100,000 trials of 100 coin flips each. Plot a histogram of the ratio of heads to total flips for each trial. Run 100,000 trials of 1,000 coin flips each and plot that histogram as well. Lastly, plot a box plot of your results from the 100 coin flip trials and your results from the 1,000 coin flip trials.\n",
    "\n",
    "What do you observe? Write up your notes.\n",
    "\n",
    "If possible, add the mean and standard deviation as text to each histogram."
   ]
  },
  {
   "cell_type": "code",
   "execution_count": null,
   "metadata": {
    "collapsed": true
   },
   "outputs": [],
   "source": []
  }
 ],
 "metadata": {
  "kernelspec": {
   "display_name": "Python 3",
   "language": "python",
   "name": "python3"
  },
  "language_info": {
   "codemirror_mode": {
    "name": "ipython",
    "version": 3
   },
   "file_extension": ".py",
   "mimetype": "text/x-python",
   "name": "python",
   "nbconvert_exporter": "python",
   "pygments_lexer": "ipython3",
   "version": "3.4.3"
  }
 },
 "nbformat": 4,
 "nbformat_minor": 0
}
